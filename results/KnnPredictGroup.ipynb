{
 "cells": [
  {
   "cell_type": "code",
   "execution_count": 1,
   "id": "4cc452c0-374a-42f0-9fb4-0801c36f543b",
   "metadata": {},
   "outputs": [],
   "source": [
    "import os\n",
    "import numpy as np\n",
    "import pandas as pd\n",
    "from sklearn.neighbors import NearestNeighbors\n",
    "from sklearn.metrics import balanced_accuracy_score\n",
    "import matplotlib.pyplot as plt"
   ]
  },
  {
   "cell_type": "markdown",
   "id": "52c26152-4d59-4a7d-a397-e884a84adb77",
   "metadata": {},
   "source": [
    "### Import Data\n",
    "Import and preprocess downloaded data, including dropping shots for which no land cover classification is available. Randomly permuting the shots guarantees that the test shots will not differ in distribution from the training shots. Note that the low-dimensional embedding of the rh profiles chosen here is a simple downsampling. Note that I tried less extreme downsamplings, without a noticeable difference in the accuracy of the resulting classifier."
   ]
  },
  {
   "cell_type": "code",
   "execution_count": 2,
   "id": "3034a6db-3546-4048-b445-1da094054e07",
   "metadata": {},
   "outputs": [],
   "source": [
    "shots = pd.concat(\n",
    "    pd.read_csv(\"../data/\" + g) for g in os.listdir(\"../data\") if g.endswith(\".csv\")\n",
    ")"
   ]
  },
  {
   "cell_type": "code",
   "execution_count": 3,
   "id": "14919269-13b7-4164-9f87-b8e0255d1300",
   "metadata": {},
   "outputs": [
    {
     "name": "stdout",
     "output_type": "stream",
     "text": [
      "737847 total shots\n"
     ]
    },
    {
     "data": {
      "text/html": [
       "<div>\n",
       "<style scoped>\n",
       "    .dataframe tbody tr th:only-of-type {\n",
       "        vertical-align: middle;\n",
       "    }\n",
       "\n",
       "    .dataframe tbody tr th {\n",
       "        vertical-align: top;\n",
       "    }\n",
       "\n",
       "    .dataframe thead th {\n",
       "        text-align: right;\n",
       "    }\n",
       "</style>\n",
       "<table border=\"1\" class=\"dataframe\">\n",
       "  <thead>\n",
       "    <tr style=\"text-align: right;\">\n",
       "      <th></th>\n",
       "      <th>Unnamed: 0</th>\n",
       "      <th>Class</th>\n",
       "      <th>Group</th>\n",
       "      <th>beam</th>\n",
       "      <th>channel</th>\n",
       "      <th>lat_lowestmode</th>\n",
       "      <th>lon_lowestmode</th>\n",
       "      <th>elev_lowestmode</th>\n",
       "      <th>delta_time</th>\n",
       "      <th>rh</th>\n",
       "      <th>land_cover_data/landsat_water_persistence</th>\n",
       "      <th>land_cover_data/landsat_treecover</th>\n",
       "      <th>land_cover_data/region_class</th>\n",
       "      <th>land_cover_data/urban_proportion</th>\n",
       "      <th>land_cover_data/urban_focal_window_size</th>\n",
       "      <th>shot_number</th>\n",
       "    </tr>\n",
       "  </thead>\n",
       "  <tbody>\n",
       "    <tr>\n",
       "      <th>0</th>\n",
       "      <td>564</td>\n",
       "      <td>Evergreen Forest</td>\n",
       "      <td>Forest</td>\n",
       "      <td>6</td>\n",
       "      <td>3</td>\n",
       "      <td>42.407600</td>\n",
       "      <td>-73.970320</td>\n",
       "      <td>177.65901</td>\n",
       "      <td>1.069808e+08</td>\n",
       "      <td>[-3.29 -1.57 -0.71 -0.07  0.52  1.16  1.98  3....</td>\n",
       "      <td>0</td>\n",
       "      <td>100.0</td>\n",
       "      <td>7</td>\n",
       "      <td>0</td>\n",
       "      <td>3</td>\n",
       "      <td>138400600300474342</td>\n",
       "    </tr>\n",
       "    <tr>\n",
       "      <th>1</th>\n",
       "      <td>5077</td>\n",
       "      <td>Deciduous Forest</td>\n",
       "      <td>Forest</td>\n",
       "      <td>11</td>\n",
       "      <td>5</td>\n",
       "      <td>43.269134</td>\n",
       "      <td>-77.281174</td>\n",
       "      <td>52.31818</td>\n",
       "      <td>8.630642e+07</td>\n",
       "      <td>[-6.81 -5.72 -4.9  -4.3  -3.81 -3.44 -3.14 -2....</td>\n",
       "      <td>0</td>\n",
       "      <td>98.0</td>\n",
       "      <td>7</td>\n",
       "      <td>0</td>\n",
       "      <td>3</td>\n",
       "      <td>101311100200280665</td>\n",
       "    </tr>\n",
       "    <tr>\n",
       "      <th>2</th>\n",
       "      <td>1299</td>\n",
       "      <td>Woody Wetlands</td>\n",
       "      <td>Wetlands</td>\n",
       "      <td>8</td>\n",
       "      <td>4</td>\n",
       "      <td>44.417889</td>\n",
       "      <td>-75.458568</td>\n",
       "      <td>69.87482</td>\n",
       "      <td>1.008601e+08</td>\n",
       "      <td>[-4.6  -3.78 -3.29 -2.99 -2.73 -2.54 -2.39 -2....</td>\n",
       "      <td>0</td>\n",
       "      <td>27.0</td>\n",
       "      <td>7</td>\n",
       "      <td>0</td>\n",
       "      <td>3</td>\n",
       "      <td>127420800300219043</td>\n",
       "    </tr>\n",
       "    <tr>\n",
       "      <th>3</th>\n",
       "      <td>2799</td>\n",
       "      <td>Deciduous Forest</td>\n",
       "      <td>Forest</td>\n",
       "      <td>8</td>\n",
       "      <td>4</td>\n",
       "      <td>44.152166</td>\n",
       "      <td>-74.844313</td>\n",
       "      <td>477.94254</td>\n",
       "      <td>8.494630e+07</td>\n",
       "      <td>[-8.61 -6.32 -3.7  -1.76 -0.56  0.26  1.16  2....</td>\n",
       "      <td>0</td>\n",
       "      <td>95.0</td>\n",
       "      <td>7</td>\n",
       "      <td>0</td>\n",
       "      <td>3</td>\n",
       "      <td>98870800200147124</td>\n",
       "    </tr>\n",
       "    <tr>\n",
       "      <th>4</th>\n",
       "      <td>52</td>\n",
       "      <td>Open Water</td>\n",
       "      <td>Water</td>\n",
       "      <td>3</td>\n",
       "      <td>1</td>\n",
       "      <td>43.436921</td>\n",
       "      <td>-78.929842</td>\n",
       "      <td>38.10626</td>\n",
       "      <td>7.950688e+07</td>\n",
       "      <td>[-1.86 -1.82 -1.74 -1.71 -1.63 -1.59 -1.52 -1....</td>\n",
       "      <td>100</td>\n",
       "      <td>0.0</td>\n",
       "      <td>0</td>\n",
       "      <td>0</td>\n",
       "      <td>3</td>\n",
       "      <td>89110300200114400</td>\n",
       "    </tr>\n",
       "  </tbody>\n",
       "</table>\n",
       "</div>"
      ],
      "text/plain": [
       "   Unnamed: 0             Class     Group  beam  channel  lat_lowestmode  \\\n",
       "0         564  Evergreen Forest    Forest     6        3       42.407600   \n",
       "1        5077  Deciduous Forest    Forest    11        5       43.269134   \n",
       "2        1299    Woody Wetlands  Wetlands     8        4       44.417889   \n",
       "3        2799  Deciduous Forest    Forest     8        4       44.152166   \n",
       "4          52        Open Water     Water     3        1       43.436921   \n",
       "\n",
       "   lon_lowestmode  elev_lowestmode    delta_time  \\\n",
       "0      -73.970320        177.65901  1.069808e+08   \n",
       "1      -77.281174         52.31818  8.630642e+07   \n",
       "2      -75.458568         69.87482  1.008601e+08   \n",
       "3      -74.844313        477.94254  8.494630e+07   \n",
       "4      -78.929842         38.10626  7.950688e+07   \n",
       "\n",
       "                                                  rh  \\\n",
       "0  [-3.29 -1.57 -0.71 -0.07  0.52  1.16  1.98  3....   \n",
       "1  [-6.81 -5.72 -4.9  -4.3  -3.81 -3.44 -3.14 -2....   \n",
       "2  [-4.6  -3.78 -3.29 -2.99 -2.73 -2.54 -2.39 -2....   \n",
       "3  [-8.61 -6.32 -3.7  -1.76 -0.56  0.26  1.16  2....   \n",
       "4  [-1.86 -1.82 -1.74 -1.71 -1.63 -1.59 -1.52 -1....   \n",
       "\n",
       "   land_cover_data/landsat_water_persistence  \\\n",
       "0                                          0   \n",
       "1                                          0   \n",
       "2                                          0   \n",
       "3                                          0   \n",
       "4                                        100   \n",
       "\n",
       "   land_cover_data/landsat_treecover  land_cover_data/region_class  \\\n",
       "0                              100.0                             7   \n",
       "1                               98.0                             7   \n",
       "2                               27.0                             7   \n",
       "3                               95.0                             7   \n",
       "4                                0.0                             0   \n",
       "\n",
       "   land_cover_data/urban_proportion  land_cover_data/urban_focal_window_size  \\\n",
       "0                                 0                                        3   \n",
       "1                                 0                                        3   \n",
       "2                                 0                                        3   \n",
       "3                                 0                                        3   \n",
       "4                                 0                                        3   \n",
       "\n",
       "          shot_number  \n",
       "0  138400600300474342  \n",
       "1  101311100200280665  \n",
       "2  127420800300219043  \n",
       "3   98870800200147124  \n",
       "4   89110300200114400  "
      ]
     },
     "execution_count": 3,
     "metadata": {},
     "output_type": "execute_result"
    }
   ],
   "source": [
    "shots = shots[shots[\"Class\"] != \"Not Classified\"]\n",
    "shots = shots.sample(frac=1).reset_index(drop=True)\n",
    "n_shots, _ = shots.shape\n",
    "print(n_shots, \"total shots\")\n",
    "shots.head()"
   ]
  },
  {
   "cell_type": "code",
   "execution_count": 10,
   "id": "189a159d-4b36-41ff-aa8e-f2684b3c5d6d",
   "metadata": {},
   "outputs": [
    {
     "data": {
      "text/plain": [
       "(737847, 15)"
      ]
     },
     "execution_count": 10,
     "metadata": {},
     "output_type": "execute_result"
    }
   ],
   "source": [
    "def str2np(rhstr):\n",
    "    return np.fromstring(rhstr[1:-1], sep=' ')\n",
    "    \n",
    "rh = np.array([str2np(r) for r in shots[\"rh\"]])\n",
    "#idx = range(5, 96, 15)\n",
    "idx = range(1, 100, 7)\n",
    "rh = rh[:, idx]\n",
    "rh.shape"
   ]
  },
  {
   "cell_type": "code",
   "execution_count": 5,
   "id": "fb466f0a-7727-48d3-9bad-9d5da6802372",
   "metadata": {},
   "outputs": [],
   "source": [
    "classes = np.array(shots[\"Class\"])\n",
    "groups = np.array(shots[\"Group\"])"
   ]
  },
  {
   "cell_type": "markdown",
   "id": "757d6668-72ed-4004-8f5e-e10bc1431b36",
   "metadata": {},
   "source": [
    "### Split and Fit\n",
    "Perform a simple train/test split and fit a NearestNeighbors object to the training data. Note that the order of the p-norm used in the embedding space does not seem to be important, and $p=\\infty$ is the fastest to compute. Also note that the accuracy is not dramatically affected by reducing the size of the training set within roughly an order of magnitude."
   ]
  },
  {
   "cell_type": "code",
   "execution_count": 26,
   "id": "638d7189-7fe1-4826-bc20-f3c53d89b9c6",
   "metadata": {},
   "outputs": [
    {
     "name": "stdout",
     "output_type": "stream",
     "text": [
      "training on 516492 shots, testing on 221355 shots\n"
     ]
    }
   ],
   "source": [
    "split = int(n_shots * 0.7)\n",
    "print(f\"training on {split} shots, testing on {n_shots - split} shots\")\n",
    "class_train, classes_test = classes[:split], classes[split:]\n",
    "group_train, group_test = groups[:split], groups[split:]\n",
    "rh_train, rh_test = rh[:split], rh[split:]\n",
    "neigh = NearestNeighbors(p=np.infty).fit(rh_train)"
   ]
  },
  {
   "cell_type": "markdown",
   "id": "44df2b86-751f-497d-9cdd-da58e7668b29",
   "metadata": {},
   "source": [
    "### Hyperparameter Choice\n",
    "The ```neigh``` object we've created can find the $k$ nearest neighbors of a query point. The majority label in this neighborhood can be used to classify the shot. Let's optimize the neighborhood size $k$."
   ]
  },
  {
   "cell_type": "code",
   "execution_count": 7,
   "id": "8527c48c-2e97-4be3-985d-88be80b1bb3d",
   "metadata": {},
   "outputs": [],
   "source": [
    "def neigh_label(label_train, ind):\n",
    "    \"\"\"\n",
    "    Given a set of labels for the training points and an array of nearest-neighbor \n",
    "    indices, return the labels of the nearest neighbors.\n",
    "    \"\"\"\n",
    "    return label_train[ind.flatten()].reshape(ind.shape)"
   ]
  },
  {
   "cell_type": "code",
   "execution_count": 27,
   "id": "c4d8f648-a425-470d-9872-39918a845c8f",
   "metadata": {},
   "outputs": [
    {
     "name": "stdout",
     "output_type": "stream",
     "text": [
      "k = 1 balanced accuracy of 0.3183427036101298\n",
      "k = 2 balanced accuracy of 0.32436507520429936\n",
      "k = 5 balanced accuracy of 0.3467888441123592\n",
      "k = 10 balanced accuracy of 0.35322891699359243\n",
      "k = 20 balanced accuracy of 0.35434513103426774\n",
      "k = 50 balanced accuracy of 0.3545079816961086\n",
      "k = 100 balanced accuracy of 0.35460518125146523\n",
      "k = 200 balanced accuracy of 0.35215442475263614\n",
      "k = 500 balanced accuracy of 0.3480368729088178\n"
     ]
    }
   ],
   "source": [
    "small_samp = 10000\n",
    "\n",
    "for k in [1, 2, 5, 10, 20, 50, 100, 200, 500]:\n",
    "    _, ind = neigh.kneighbors(rh_test[:small_samp], n_neighbors=k)\n",
    "    neigh_group = neigh_label(group_train, ind)\n",
    "    modes = pd.DataFrame(neigh_group).mode(axis=1)\n",
    "    majority_group = modes.apply(lambda x: np.random.choice(x.dropna()), axis=1)  # random among equally common groups\n",
    "    acc = balanced_accuracy_score(group_test[:small_samp], majority_group)\n",
    "    print(f\"k = {k} balanced accuracy of {acc}\")"
   ]
  },
  {
   "cell_type": "markdown",
   "id": "6f868a55-43c7-4055-83fa-a9c7ff3611db",
   "metadata": {},
   "source": [
    "The balanced accuracy is not high, but that's okay. Intuitively, the return profile from water should not be too different than the profile from a sports field. But $k=50$ is about the best we can do.\n",
    "\n",
    "We could try setting the radius $r$ of each neighborhood rather than the number of neighbors $k$. This is time-consuming, due to the non-uniform density of the data, as illustrated by the plot below."
   ]
  },
  {
   "cell_type": "code",
   "execution_count": 9,
   "id": "377db01b-994c-4ec7-b35a-e7f4e54981ea",
   "metadata": {},
   "outputs": [
    {
     "data": {
      "image/png": "[encoded data removed]",
      "text/plain": [
       "<Figure size 640x480 with 1 Axes>"
      ]
     },
     "metadata": {},
     "output_type": "display_data"
    }
   ],
   "source": [
    "dist, _ = neigh.kneighbors(rh_test[:10], n_neighbors=500)\n",
    "for i, d in enumerate(dist):\n",
    "    plt.plot(d, label=group_test[i])\n",
    "plt.xlabel(\"nth nearest neighbor\"); plt.ylabel(\"distance\")\n",
    "plt.legend(); plt.show()"
   ]
  },
  {
   "cell_type": "markdown",
   "id": "da50f861-ca3e-4292-b389-5ad43d08505d",
   "metadata": {},
   "source": [
    "### "
   ]
  },
  {
   "cell_type": "code",
   "execution_count": null,
   "id": "f74a9d06-d048-4d08-98f3-568a2c83a716",
   "metadata": {},
   "outputs": [],
   "source": []
  }
 ],
 "metadata": {
  "kernelspec": {
   "display_name": "erdos-gedi-kernel",
   "language": "python",
   "name": "erdos-gedi-kernel"
  },
  "language_info": {
   "codemirror_mode": {
    "name": "ipython",
    "version": 3
   },
   "file_extension": ".py",
   "mimetype": "text/x-python",
   "name": "python",
   "nbconvert_exporter": "python",
   "pygments_lexer": "ipython3",
   "version": "3.10.0"
  }
 },
 "nbformat": 4,
 "nbformat_minor": 5
}
