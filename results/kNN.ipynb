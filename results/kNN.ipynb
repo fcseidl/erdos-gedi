{
 "cells": [
  {
   "cell_type": "code",
   "execution_count": 2,
   "id": "4cc452c0-374a-42f0-9fb4-0801c36f543b",
   "metadata": {},
   "outputs": [],
   "source": [
    "import pandas as pd\n",
    "from sklearn.neighbors import NearestNeighbors"
   ]
  }
 ],
 "metadata": {
  "kernelspec": {
   "display_name": "erdos-gedi-kernel",
   "language": "python",
   "name": "erdos-gedi-kernel"
  },
  "language_info": {
   "codemirror_mode": {
    "name": "ipython",
    "version": 3
   },
   "file_extension": ".py",
   "mimetype": "text/x-python",
   "name": "python",
   "nbconvert_exporter": "python",
   "pygments_lexer": "ipython3",
   "version": "3.10.0"
  }
 },
 "nbformat": 4,
 "nbformat_minor": 5
}
